{
 "cells": [
  {
   "cell_type": "code",
   "execution_count": 45,
   "metadata": {},
   "outputs": [],
   "source": [
    "#creation of languages available in Google translation with their codes.\n",
    "lang_dict = {'Afrikaans':'af', 'Irish':'ga','Albanian':'sq','Italian':'it','Arabic':'ar','Japanese':'ja',\n",
    "             'Azerbaijani':'az','Basque':'eu','Korean':'ko','Bengali':'bn','Latin':'la','Belarusian':'be',\n",
    "             'Latvian':'lv','Bulgarian':'bg','Lithuanian':'lt','Catalan':'ca','Macedonian':'mk',\n",
    "             'Chinese Simplified':'zh-CN','Malay':'ms','Chinese Traditional':'zh-TW','Maltese':'mt','Croatian':'hr',\n",
    "             'Norwegian':'no','Czech':'cs','Persian':'fa','Danish':'da','Polish':'pl','Dutch':'nl','Portuguese':'pt',\n",
    "             'Romanian':'ro','Esperanto':'eo','Russian':'ru','Estonian':'et','Serbian':'sr','Filipino':'tl',\n",
    "             'Slovak':'sk','Finnish':'fi','Slovenian':'sl','French':'fr','Spanish':'es','Galician':'gl',\n",
    "             'Swahili':'sw','Georgian':'ka','Swedish':'sv','German':'de','Tamil':'ta','Greek':'el','Telugu':'te',\n",
    "             'Gujarati':'gu','Thai':'th','Haitian Creole':'ht','Turkish':'tr','Hebrew':'iw','Ukrainian':'uk',\n",
    "             'Hindi':'hi','Urdu':'ur','Hungarian':'hu','Vietnamese':'vi','Icelandic':'is','Welsh':'cy','Indonesian':'id',\n",
    "             'Yiddish':'yi'}"
   ]
  },
  {
   "cell_type": "code",
   "execution_count": 46,
   "metadata": {},
   "outputs": [
    {
     "name": "stdout",
     "output_type": "stream",
     "text": [
      "Kindly enter your word here:  Peace\n"
     ]
    }
   ],
   "source": [
    "'\\n'\n",
    "from textblob import TextBlob\n",
    "from wordcloud import WordCloud\n",
    "\n",
    "prompt = str(input('Kindly enter your word here:  '))\n",
    "prompt = prompt.title()\n",
    "\n",
    "#conversion of the prompt from string to TextBlob\n",
    "text = TextBlob(prompt)"
   ]
  },
  {
   "cell_type": "code",
   "execution_count": 47,
   "metadata": {},
   "outputs": [
    {
     "name": "stdout",
     "output_type": "stream",
     "text": [
      "Language        Translation\n",
      "\n",
      "Afrikaans         Vrede\n",
      "Irish             Síocháin\n",
      "Albanian          Paqen\n",
      "Italian           Pace\n",
      "Arabic            سلام\n",
      "Japanese          平和\n",
      "Azerbaijani       Sülh\n",
      "Basque            Bakea\n",
      "Korean            평화\n",
      "Bengali           শান্তি\n",
      "Latin             Pax\n",
      "Belarusian        Мір\n",
      "Latvian           Miers\n",
      "Bulgarian         Мир\n",
      "Lithuanian        Ramybė\n",
      "Catalan           Pau\n",
      "Macedonian        Мир\n",
      "Chinese Simplified   和平\n",
      "Malay             Kedamaian\n",
      "Chinese Traditional   和平\n",
      "Maltese           Paċi\n",
      "Croatian          Mir\n",
      "Norwegian         Fred\n",
      "Czech             Mír\n",
      "Persian           صلح\n",
      "Danish            Fred\n",
      "Polish            Pokój\n",
      "Dutch             Vrede\n",
      "Portuguese        Paz\n",
      "Romanian          Pace\n",
      "Esperanto         Pacon\n",
      "Russian           Мир\n",
      "Estonian          Rahu\n",
      "Serbian           Мир\n",
      "Filipino          Kapayapaan\n",
      "Slovak            Mier\n",
      "Finnish           Rauha\n",
      "Slovenian         Mir\n",
      "French            Paix\n",
      "Spanish           Paz\n",
      "Galician          Paz\n",
      "Swahili           Amani\n",
      "Georgian          მშვიდობა\n",
      "Swedish           Fred\n",
      "German            Frieden\n",
      "Tamil             சமாதானம்\n",
      "Greek             Ειρήνη\n",
      "Telugu            శాంతి\n",
      "Gujarati          શાંતિ\n",
      "Thai              สันติภาพ\n",
      "Haitian Creole    Lapè\n",
      "Turkish           Barış\n",
      "Hebrew            שָׁלוֹם\n",
      "Ukrainian         Мир\n",
      "Hindi             शांति\n",
      "Urdu              امن\n",
      "Hungarian         Béke\n",
      "Vietnamese        Sự thanh bình\n",
      "Icelandic         Friður\n",
      "Welsh             Heddwch\n",
      "Indonesian        Perdamaian\n",
      "Yiddish           שלום\n"
     ]
    }
   ],
   "source": [
    "'\\n'\n",
    "print(f'{\"Language\":<15} {\"Translation\"}\\n')\n",
    "\n",
    "#for loop to allow the conversion into all the available languages \n",
    "new_word = [prompt]\n",
    "\n",
    "for key,value in lang_dict.items():\n",
    "    new_text = str(text.translate(to=value))\n",
    "    new_word.append(new_text)\n",
    "    print(f'{key:<15}   {new_text}')\n",
    "    "
   ]
  },
  {
   "cell_type": "code",
   "execution_count": 48,
   "metadata": {},
   "outputs": [],
   "source": [
    "'\\n'\n",
    "#reconversion from list back to string \n",
    "new_word = (\" \").join(new_word)\n"
   ]
  },
  {
   "cell_type": "code",
   "execution_count": 49,
   "metadata": {},
   "outputs": [
    {
     "data": {
      "image/png": "[encoded data removed]",
      "text/plain": [
       "<Figure size 432x288 with 1 Axes>"
      ]
     },
     "metadata": {
      "needs_background": "light"
     },
     "output_type": "display_data"
    }
   ],
   "source": [
    "'\\n'\n",
    "import matplotlib.pyplot as plt\n",
    "%matplotlib inline\n",
    "\n",
    "#creation of wordcloud image from the list of translated lang.\n",
    "import imageio\n",
    "mask_image = imageio.imread('star.png')\n",
    "\n",
    "wordcloud = WordCloud(width=1600, height= 900, mask = mask_image, colormap='prism', background_color='white')\n",
    "wordcloud = wordcloud.generate(new_word)\n",
    "wordcloud.to_file('translation_image.png')\n",
    "plt.axis('off')\n",
    "plt.imshow(wordcloud)\n",
    "plt.show()\n"
   ]
  },
  {
   "cell_type": "code",
   "execution_count": 51,
   "metadata": {},
   "outputs": [
    {
     "name": "stdout",
     "output_type": "stream",
     "text": [
      "The following commands were written to file `'word_trans_script.py'.py`:\n",
      "#creation of languages available in Google translation with their codes.\n",
      "lang_dict = {'Afrikaans':'af', 'Irish':'ga','Albanian':'sq','Italian':'it','Arabic':'ar','Japanese':'ja',\n",
      "             'Azerbaijani':'az','Basque':'eu','Korean':'ko','Bengali':'bn','Latin':'la','Belarusian':'be',\n",
      "             'Latvian':'lv','Bulgarian':'bg','Lithuanian':'lt','Catalan':'ca','Macedonian':'mk',\n",
      "             'Chinese Simplified':'zh-CN','Malay':'ms','Chinese Traditional':'zh-TW','Maltese':'mt','Croatian':'hr',\n",
      "             'Norwegian':'no','Czech':'cs','Persian':'fa','Danish':'da','Polish':'pl','Dutch':'nl','Portuguese':'pt',\n",
      "             'Romanian':'ro','Esperanto':'eo','Russian':'ru','Estonian':'et','Serbian':'sr','Filipino':'tl',\n",
      "             'Slovak':'sk','Finnish':'fi','Slovenian':'sl','French':'fr','Spanish':'es','Galician':'gl',\n",
      "             'Swahili':'sw','Georgian':'ka','Swedish':'sv','German':'de','Tamil':'ta','Greek':'el','Telugu':'te',\n",
      "             'Gujarati':'gu','Thai':'th','Haitian Creole':'ht','Turkish':'tr','Hebrew':'iw','Ukrainian':'uk',\n",
      "             'Hindi':'hi','Urdu':'ur','Hungarian':'hu','Vietnamese':'vi','Icelandic':'is','Welsh':'cy','Indonesian':'id',\n",
      "             'Yiddish':'yi'}\n",
      "'\\n'\n",
      "from textblob import TextBlob\n",
      "from wordcloud import WordCloud\n",
      "\n",
      "prompt = str(input('Kindly enter your word here:  '))\n",
      "prompt = prompt.title()\n",
      "\n",
      "#conversion of the prompt from string to TextBlob\n",
      "text = TextBlob(prompt)\n",
      "'\\n'\n",
      "print(f'{\"Language\":<15} {\"Translation\"}\\n')\n",
      "\n",
      "#for loop to allow the conversion into all the available languages \n",
      "new_word = [prompt]\n",
      "\n",
      "for key,value in lang_dict.items():\n",
      "    new_text = str(text.translate(to=value))\n",
      "    new_word.append(new_text)\n",
      "    print(f'{key:<15}   {new_text}')\n",
      "    \n",
      "'\\n'\n",
      "#reconversion from list back to string \n",
      "new_word = (\" \").join(new_word)\n",
      "'\\n'\n",
      "import matplotlib.pyplot as plt\n",
      "get_ipython().run_line_magic('matplotlib', 'inline')\n",
      "\n",
      "#creation of wordcloud image from the list of translated lang.\n",
      "import imageio\n",
      "mask_image = imageio.imread('star.png')\n",
      "\n",
      "wordcloud = WordCloud(width=1600, height= 900, mask = mask_image, colormap='prism', background_color='white')\n",
      "wordcloud = wordcloud.generate(new_word)\n",
      "wordcloud.to_file('translation_image.png')\n",
      "plt.axis('off')\n",
      "plt.imshow(wordcloud)\n",
      "plt.show()\n"
     ]
    }
   ],
   "source": [
    "%save 'word_trans_script.py' 45-49"
   ]
  },
  {
   "cell_type": "code",
   "execution_count": null,
   "metadata": {},
   "outputs": [],
   "source": []
  }
 ],
 "metadata": {
  "kernelspec": {
   "display_name": "Python 3",
   "language": "python",
   "name": "python3"
  },
  "language_info": {
   "codemirror_mode": {
    "name": "ipython",
    "version": 3
   },
   "file_extension": ".py",
   "mimetype": "text/x-python",
   "name": "python",
   "nbconvert_exporter": "python",
   "pygments_lexer": "ipython3",
   "version": "3.7.6"
  }
 },
 "nbformat": 4,
 "nbformat_minor": 4
}
